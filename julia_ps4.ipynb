{
 "cells": [
  {
   "cell_type": "markdown",
   "id": "fa25dc5f-f30e-4a44-808d-824369cec383",
   "metadata": {},
   "source": [
    "# Problem Set 4\n",
    "### Julia Bruner"
   ]
  },
  {
   "cell_type": "markdown",
   "id": "b7ab5994-9b41-4f72-bb59-04c3e71a401f",
   "metadata": {},
   "source": [
    "## Link to API: \n",
    "https://wizard-world-api.herokuapp.com/swagger/index.html\n"
   ]
  },
  {
   "cell_type": "markdown",
   "id": "1ee51618-a1a0-4dbe-b1fc-96071898ac8a",
   "metadata": {},
   "source": [
    "## Description: \n",
    "API returning data from the Harry Potter universe. Includes information on characters, houses, spells, elixers, ingredients, and wizards. In this script we will only be examining and using spell data."
   ]
  },
  {
   "cell_type": "markdown",
   "id": "18566423-dfa1-447a-9d76-fb67fccb9d88",
   "metadata": {},
   "source": [
    "## Find the Function of a Spell Using its Name"
   ]
  },
  {
   "cell_type": "markdown",
   "id": "ed2b0a97-cfa2-480d-97cb-bd2d949cc8c6",
   "metadata": {},
   "source": [
    "#### examples: \n",
    "opening charm,\n",
    "hair loss curse,\n",
    "arrow shooting spell,\n",
    "animagus spell,\n",
    "killing curse,\n",
    "cornflake skin spell, etc."
   ]
  },
  {
   "cell_type": "code",
   "execution_count": 1,
   "id": "f394bc86-797d-4955-a841-5ea469d4863f",
   "metadata": {},
   "outputs": [
    {
     "name": "stdout",
     "output_type": "stream",
     "text": [
      "Retrieving https://wizard-world-api.herokuapp.com/Spells\n",
      "Retrieved 62806 characters\n"
     ]
    },
    {
     "name": "stdin",
     "output_type": "stream",
     "text": [
      "Enter a spell name: animagus spell\n"
     ]
    },
    {
     "name": "stdout",
     "output_type": "stream",
     "text": [
      "__________________________________________________________________________\n",
      "Spell function: Used as part of the ritual to become an Animagus\n"
     ]
    }
   ],
   "source": [
    "## Find the function of a spell using its name. To use this code, run the cell and wait for input box to appear. Then enter the name of the spell.\n",
    "\n",
    "import urllib.request, urllib.parse, urllib.error\n",
    "import json\n",
    "\n",
    "# This API is a database of information from the book/movie series, 'Harry Potter'\n",
    "serviceurl = 'https://wizard-world-api.herokuapp.com/'\n",
    "\n",
    "url = serviceurl + \"Spells\" \n",
    "# getting all sepll data from API, there is also info on houses, potions, etc. Change url accordingly. \n",
    "print('Retrieving', url)\n",
    "uh = urllib.request.urlopen(urllib.request.Request(url, headers={'User-Agent': 'Mozilla/5.0'}))\n",
    "data = uh.read().decode()\n",
    "print('Retrieved', len(data), 'characters')\n",
    "\n",
    "# Read the retrieved data into a json object\n",
    "try:\n",
    "    js = json.loads(data)\n",
    "except:\n",
    "    js = None\n",
    "# if the data cannot be read, fill the object with the word 'None'\n",
    "    \n",
    "    \n",
    "# print js\n",
    "# Use the line above to test if data is being correctly retirved and read, only first time. JS is a very large object and will clutter output. \n",
    "\n",
    "spell = input('Enter a spell name:')\n",
    "def spell_search(spell): # defining the spell search function\n",
    "    for keyval in js: #for each element in the list of dictionaries in the js object, if the search matches a listed incantation, return its effect.\n",
    "        if spell.lower() == (keyval['name']).lower():\n",
    "            return keyval['effect']\n",
    "            \n",
    "if (spell_search(spell) != None):\n",
    "    print(\"__________________________________________________________________________\")\n",
    "    print(\"Spell function:\", spell_search(spell))\n",
    "else:\n",
    "    print(\"This spell is not found. Please try again.\")"
   ]
  },
  {
   "cell_type": "markdown",
   "id": "acc335be-1806-4865-a056-2079992129e6",
   "metadata": {},
   "source": [
    "### NOTE: If your spell is not found, you may have the incantation rather than the name. Use the code below to find the function of the spell using its incantation."
   ]
  },
  {
   "cell_type": "markdown",
   "id": "215c8e55-cb52-43e2-a690-f160b8b68852",
   "metadata": {},
   "source": [
    "## Find the Function of a Spell Using its Incantation"
   ]
  },
  {
   "cell_type": "markdown",
   "id": "4a571713-23fc-4650-aad7-4dd2e5345b40",
   "metadata": {},
   "source": [
    "### examples: \n",
    "accio, ventus, aguamenti, imperio, rictusempra, crucio, etc."
   ]
  },
  {
   "cell_type": "code",
   "execution_count": 6,
   "id": "2ff3dc69-9015-4404-be20-9c423fd03ff6",
   "metadata": {},
   "outputs": [
    {
     "name": "stdout",
     "output_type": "stream",
     "text": [
      "Retrieving https://wizard-world-api.herokuapp.com/Spells\n",
      "Retrieved 62806 characters\n"
     ]
    },
    {
     "name": "stdin",
     "output_type": "stream",
     "text": [
      "Enter a spell incantation: crucio\n"
     ]
    },
    {
     "name": "stdout",
     "output_type": "stream",
     "text": [
      "__________________________________________________________________________\n",
      "Spell function: Excruciating pain, insanity if victim is subjected for too long\n"
     ]
    }
   ],
   "source": [
    "## Find the function of a spell using the incantation. To use this code, run the cell and wait for input box to appear. \n",
    "# Then enter the spell incantation.\n",
    "\n",
    "import urllib.request, urllib.parse, urllib.error\n",
    "import json\n",
    "\n",
    "# This API is a database of information from the book/movie series, 'Harry Potter'\n",
    "serviceurl = 'https://wizard-world-api.herokuapp.com/'\n",
    "\n",
    "url = serviceurl + \"Spells\" \n",
    "# getting all sepll data from API, there is also info on houses, potions, etc. Change url accordingly. \n",
    "print('Retrieving', url)\n",
    "uh = urllib.request.urlopen(urllib.request.Request(url, headers={'User-Agent': 'Mozilla/5.0'}))\n",
    "data = uh.read().decode()\n",
    "print('Retrieved', len(data), 'characters')\n",
    "\n",
    "# Read the retrieved data into a json object\n",
    "try:\n",
    "    js = json.loads(data)\n",
    "except:\n",
    "    js = None\n",
    "# if the data cannot be read, fill the object with the word 'None'\n",
    "    \n",
    "    \n",
    "# print js\n",
    "# Use the line above to test if data is being correctly retirved and read\n",
    "\n",
    "incantation = input('Enter a spell incantation:') # defining the search function\n",
    "def incantation_search(incantation):\n",
    "    for keyval in js: #for each element in the list of dictionaries in the js object, if the search matches a listed incantation, return its effect.\n",
    "        try:\n",
    "            if incantation.lower() == (keyval['incantation']).lower():\n",
    "                return keyval['effect']\n",
    "        except:\n",
    "            continue\n",
    "            \n",
    "if (incantation_search(incantation) != None): # if the search result is NOT none, return the function associated with the entered incantation.\n",
    "    print(\"__________________________________________________________________________\")\n",
    "    print(\"Spell function:\", incantation_search(incantation))\n",
    "else:\n",
    "    print(\"This spell is not found. Please try again.\")"
   ]
  },
  {
   "cell_type": "code",
   "execution_count": null,
   "id": "146eab58-8d5d-4ca8-9ac3-9c901f6bf5e5",
   "metadata": {},
   "outputs": [],
   "source": []
  }
 ],
 "metadata": {
  "kernelspec": {
   "display_name": "UFRC Python-3.10",
   "language": "python",
   "name": "python3-3.10-ufrc"
  },
  "language_info": {
   "codemirror_mode": {
    "name": "ipython",
    "version": 3
   },
   "file_extension": ".py",
   "mimetype": "text/x-python",
   "name": "python",
   "nbconvert_exporter": "python",
   "pygments_lexer": "ipython3",
   "version": "3.10.5"
  }
 },
 "nbformat": 4,
 "nbformat_minor": 5
}
